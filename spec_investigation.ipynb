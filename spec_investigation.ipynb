{
 "cells": [
  {
   "cell_type": "code",
   "execution_count": null,
   "metadata": {},
   "outputs": [],
   "source": [
    "# Load pretrained model and look at the spectrogram cnn's weights\n",
    "import torch\n",
    "import torchaudio\n",
    "import os\n",
    "from diffwave.params import AttrDict, params as base_params\n",
    "from diffwave.model import DiffWave\n",
    "\n",
    "device = torch.device('cpu')\n",
    "\n",
    "model_dir = 'diffwave-ljspeech-22kHz-1000578.pt'\n",
    "\n",
    "checkpoint = torch.load(model_dir, map_location=device)\n",
    "model = DiffWave(AttrDict(base_params)).to(device)\n"
   ]
  },
  {
   "cell_type": "code",
   "execution_count": null,
   "metadata": {},
   "outputs": [],
   "source": [
    "from diffwave.preprocess import transform\n",
    "data_dir = '/Users/lukgar/Desktop/exjobb/datasets/LJSpeech-1.1/wavs'\n",
    "filename = data_dir + '/LJ001-0001.wav'\n",
    "\n",
    "spec = transform(filename, save=False)\n",
    "spectrogram = spec.view(1, *spec.shape)\n",
    "\n",
    "audio, sr = torchaudio.load(filename)\n",
    "spec_shape = tuple(spectrogram.shape)\n",
    "audio_shape = (1, base_params.hop_samples * spec_shape[-1]) # Should be 113408? Padding?\n",
    "step_shape = (1,)\n",
    "\n",
    "from torchinfo import summary\n",
    "# summary(model, [audio_shape, step_shape, spec_shape], depth=2)"
   ]
  },
  {
   "cell_type": "code",
   "execution_count": null,
   "metadata": {},
   "outputs": [],
   "source": [
    "from diffwave.inference import predict\n",
    "\n",
    "model.load_state_dict(checkpoint['model'])\n",
    "model.eval()\n",
    "audio_pred, sr = predict(spectrogram, model_dir, device=torch.device('cpu'), fast_sampling=True)"
   ]
  },
  {
   "cell_type": "code",
   "execution_count": null,
   "metadata": {},
   "outputs": [],
   "source": [
    "# print name of each layer\n",
    "for name, param in model.named_parameters():\n",
    "    print(name) if 'spectrogram_upsampler' in name else None"
   ]
  },
  {
   "cell_type": "code",
   "execution_count": null,
   "metadata": {},
   "outputs": [],
   "source": [
    "# Print all layers\n",
    "for name, layer in model.named_modules():\n",
    "    print(name, type(name))\n",
    "    print(layer, type(layer))"
   ]
  },
  {
   "cell_type": "code",
   "execution_count": null,
   "metadata": {},
   "outputs": [],
   "source": [
    "summary(model.spectrogram_upsampler, spec_shape, depth=2)"
   ]
  },
  {
   "cell_type": "code",
   "execution_count": null,
   "metadata": {},
   "outputs": [],
   "source": [
    "spec_out = model.spectrogram_upsampler(spectrogram)\n",
    "\n",
    "print(spectrogram.shape)\n",
    "print(spec_out.shape)"
   ]
  },
  {
   "cell_type": "code",
   "execution_count": null,
   "metadata": {},
   "outputs": [],
   "source": [
    "# plot spectrogram and spec_out\n",
    "import matplotlib.pyplot as plt\n",
    "plt.rcParams['figure.figsize'] = [20, 8]\n",
    "\n",
    "plt.imshow(spectrogram[0, :, :].detach().numpy());\n",
    "\n",
    "\n"
   ]
  },
  {
   "cell_type": "code",
   "execution_count": null,
   "metadata": {},
   "outputs": [],
   "source": [
    "# plot spec out\n",
    "fig, ax = plt.subplots()\n",
    "ax.set_aspect(0.1)\n",
    "im = ax.imshow(spec_out[0, :, :800].detach().numpy())\n",
    "\n"
   ]
  },
  {
   "cell_type": "code",
   "execution_count": null,
   "metadata": {},
   "outputs": [],
   "source": [
    "# plot the weights of the spectrogram_upsampler\n",
    "weights = []\n",
    "for name, param in model.spectrogram_upsampler.named_parameters():\n",
    "    if 'weight' in name:\n",
    "        # plot image of weights\n",
    "        fig, ax = plt.subplots()\n",
    "        ax.imshow(param[0,0,:,:].detach().numpy())\n",
    "\n"
   ]
  },
  {
   "cell_type": "code",
   "execution_count": null,
   "metadata": {},
   "outputs": [],
   "source": [
    "for module in model.residual_layers:\n",
    "    for name, param in module.dilated_conv.named_parameters():\n",
    "        print(param.shape)\n",
    "        # imshow subplot of weights\n",
    "        i = 2\n",
    "        fig, ax = plt.subplots(1, i)\n",
    "        for j in range(i):\n",
    "            ax[j].imshow(param[:,:,j].detach().numpy())\n",
    "        break\n",
    "    break"
   ]
  },
  {
   "cell_type": "code",
   "execution_count": null,
   "metadata": {},
   "outputs": [],
   "source": [
    "# Man kan typ inte se något eventuellt derivata-filter i viktera"
   ]
  },
  {
   "cell_type": "code",
   "execution_count": null,
   "metadata": {},
   "outputs": [],
   "source": [
    "print(audio.shape)\n",
    "print(audio_pred.shape)"
   ]
  }
 ],
 "metadata": {
  "kernelspec": {
   "display_name": "Python 3.10.6 ('diffwave')",
   "language": "python",
   "name": "python3"
  },
  "language_info": {
   "codemirror_mode": {
    "name": "ipython",
    "version": 3
   },
   "file_extension": ".py",
   "mimetype": "text/x-python",
   "name": "python",
   "nbconvert_exporter": "python",
   "pygments_lexer": "ipython3",
   "version": "3.10.6"
  },
  "orig_nbformat": 4,
  "vscode": {
   "interpreter": {
    "hash": "2194d696917787ee295fa48219bd356ec9ef563b926c2c309643f8314e0c2bc6"
   }
  }
 },
 "nbformat": 4,
 "nbformat_minor": 2
}
